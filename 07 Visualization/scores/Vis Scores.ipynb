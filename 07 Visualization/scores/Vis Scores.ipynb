{
 "cells": [
  {
   "cell_type": "markdown",
   "id": "a4dddb8f",
   "metadata": {},
   "source": [
    "# Introduction:"
   ]
  },
  {
   "cell_type": "code",
   "execution_count": null,
   "id": "a8d06e91",
   "metadata": {},
   "outputs": [],
   "source": [
    "Scores"
   ]
  },
  {
   "cell_type": "markdown",
   "id": "acb8da3f",
   "metadata": {},
   "source": [
    "# Step 1. Import the necessary libraries"
   ]
  },
  {
   "cell_type": "code",
   "execution_count": 7,
   "id": "c1321b6c",
   "metadata": {},
   "outputs": [],
   "source": [
    "import pandas as pd\n",
    "import numpy as np\n",
    "import matplotlib.pyplot as plt\n",
    "import seaborn as sns"
   ]
  },
  {
   "cell_type": "markdown",
   "id": "404426db",
   "metadata": {},
   "source": [
    "# Step 2. Create the DataFrame that should look like the one below."
   ]
  },
  {
   "cell_type": "code",
   "execution_count": 2,
   "id": "fb5357f9",
   "metadata": {},
   "outputs": [],
   "source": [
    "s={\"first_name\":[\"Jason\",\"Molly\",\"Tina\",\"Jake\",\"Amy\"],\"last_name\":[\"Miller\",\"Jacobson\",\"Ali\",\"Milner\",\"Cooze\"],\"Age\":[42,52,36,24,73],\"Female\":[0,1,1,0,1],\"preTestScore\":[4,24,31,2,3],\"postTestScore\":[25,94,57,62,70]}"
   ]
  },
  {
   "cell_type": "code",
   "execution_count": 4,
   "id": "a1f7f5b0",
   "metadata": {},
   "outputs": [
    {
     "data": {
      "text/html": [
       "<div>\n",
       "<style scoped>\n",
       "    .dataframe tbody tr th:only-of-type {\n",
       "        vertical-align: middle;\n",
       "    }\n",
       "\n",
       "    .dataframe tbody tr th {\n",
       "        vertical-align: top;\n",
       "    }\n",
       "\n",
       "    .dataframe thead th {\n",
       "        text-align: right;\n",
       "    }\n",
       "</style>\n",
       "<table border=\"1\" class=\"dataframe\">\n",
       "  <thead>\n",
       "    <tr style=\"text-align: right;\">\n",
       "      <th></th>\n",
       "      <th>first_name</th>\n",
       "      <th>last_name</th>\n",
       "      <th>Age</th>\n",
       "      <th>Female</th>\n",
       "      <th>preTestScore</th>\n",
       "      <th>postTestScore</th>\n",
       "    </tr>\n",
       "  </thead>\n",
       "  <tbody>\n",
       "    <tr>\n",
       "      <th>0</th>\n",
       "      <td>Jason</td>\n",
       "      <td>Miller</td>\n",
       "      <td>42</td>\n",
       "      <td>0</td>\n",
       "      <td>4</td>\n",
       "      <td>25</td>\n",
       "    </tr>\n",
       "    <tr>\n",
       "      <th>1</th>\n",
       "      <td>Molly</td>\n",
       "      <td>Jacobson</td>\n",
       "      <td>52</td>\n",
       "      <td>1</td>\n",
       "      <td>24</td>\n",
       "      <td>94</td>\n",
       "    </tr>\n",
       "    <tr>\n",
       "      <th>2</th>\n",
       "      <td>Tina</td>\n",
       "      <td>Ali</td>\n",
       "      <td>36</td>\n",
       "      <td>1</td>\n",
       "      <td>31</td>\n",
       "      <td>57</td>\n",
       "    </tr>\n",
       "    <tr>\n",
       "      <th>3</th>\n",
       "      <td>Jake</td>\n",
       "      <td>Milner</td>\n",
       "      <td>24</td>\n",
       "      <td>0</td>\n",
       "      <td>2</td>\n",
       "      <td>62</td>\n",
       "    </tr>\n",
       "    <tr>\n",
       "      <th>4</th>\n",
       "      <td>Amy</td>\n",
       "      <td>Cooze</td>\n",
       "      <td>73</td>\n",
       "      <td>1</td>\n",
       "      <td>3</td>\n",
       "      <td>70</td>\n",
       "    </tr>\n",
       "  </tbody>\n",
       "</table>\n",
       "</div>"
      ],
      "text/plain": [
       "  first_name last_name  Age  Female  preTestScore  postTestScore\n",
       "0      Jason    Miller   42       0             4             25\n",
       "1      Molly  Jacobson   52       1            24             94\n",
       "2       Tina       Ali   36       1            31             57\n",
       "3       Jake    Milner   24       0             2             62\n",
       "4        Amy     Cooze   73       1             3             70"
      ]
     },
     "execution_count": 4,
     "metadata": {},
     "output_type": "execute_result"
    }
   ],
   "source": [
    "scores=pd.DataFrame(s)\n",
    "scores"
   ]
  },
  {
   "cell_type": "markdown",
   "id": "33d8891f",
   "metadata": {},
   "source": [
    "# Step 3. Create a Scatterplot of preTestScore and postTestScore, with the size of each point determined by age\n",
    "Hint: Don't forget to place the labels"
   ]
  },
  {
   "cell_type": "code",
   "execution_count": 6,
   "id": "9801b683",
   "metadata": {},
   "outputs": [
    {
     "data": {
      "text/plain": [
       "Text(0, 0.5, 'postTestScore')"
      ]
     },
     "execution_count": 6,
     "metadata": {},
     "output_type": "execute_result"
    },
    {
     "data": {
      "image/png": "[encoded data removed]",
      "text/plain": [
       "<Figure size 432x288 with 1 Axes>"
      ]
     },
     "metadata": {
      "needs_background": "light"
     },
     "output_type": "display_data"
    }
   ],
   "source": [
    "plt.scatter(x=scores.preTestScore,y=scores.postTestScore,s=scores.Age)\n",
    "plt.title(\"preTestScore,postTestScore\")\n",
    "plt.xlabel(\"preTestScore\")\n",
    "plt.ylabel(\"postTestScore\")"
   ]
  },
  {
   "cell_type": "code",
   "execution_count": 9,
   "id": "5b0d5670",
   "metadata": {},
   "outputs": [
    {
     "data": {
      "text/plain": [
       "<AxesSubplot:xlabel='preTestScore', ylabel='postTestScore'>"
      ]
     },
     "execution_count": 9,
     "metadata": {},
     "output_type": "execute_result"
    },
    {
     "data": {
      "image/png": "[encoded data removed]",
      "text/plain": [
       "<Figure size 432x288 with 1 Axes>"
      ]
     },
     "metadata": {
      "needs_background": "light"
     },
     "output_type": "display_data"
    }
   ],
   "source": [
    "sns.scatterplot(data=scores,x=\"preTestScore\",y=\"postTestScore\",size=\"Age\")"
   ]
  },
  {
   "cell_type": "markdown",
   "id": "fa2de7a8",
   "metadata": {},
   "source": [
    "# Step 4. Create a Scatterplot of preTestScore and postTestScore.\n",
    "This time the size should be 4.5 times the postTestScore and the color determined by sex\n",
    " \n"
   ]
  },
  {
   "cell_type": "code",
   "execution_count": 11,
   "id": "5b8ee041",
   "metadata": {},
   "outputs": [
    {
     "data": {
      "text/plain": [
       "<matplotlib.collections.PathCollection at 0x2298267eb60>"
      ]
     },
     "execution_count": 11,
     "metadata": {},
     "output_type": "execute_result"
    },
    {
     "data": {
      "image/png": "[encoded data removed]",
      "text/plain": [
       "<Figure size 432x288 with 1 Axes>"
      ]
     },
     "metadata": {
      "needs_background": "light"
     },
     "output_type": "display_data"
    }
   ],
   "source": [
    "plt.scatter(x=scores.preTestScore,y=scores.postTestScore,s=4.5*scores.postTestScore,c=scores.Female)"
   ]
  },
  {
   "cell_type": "code",
   "execution_count": null,
   "id": "96cbe03b",
   "metadata": {},
   "outputs": [],
   "source": [
    "# BONUS: Create your own question and answer it."
   ]
  }
 ],
 "metadata": {
  "kernelspec": {
   "display_name": "Python 3 (ipykernel)",
   "language": "python",
   "name": "python3"
  },
  "language_info": {
   "codemirror_mode": {
    "name": "ipython",
    "version": 3
   },
   "file_extension": ".py",
   "mimetype": "text/x-python",
   "name": "python",
   "nbconvert_exporter": "python",
   "pygments_lexer": "ipython3",
   "version": "3.10.5"
  }
 },
 "nbformat": 4,
 "nbformat_minor": 5
}
